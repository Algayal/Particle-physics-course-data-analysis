{
 "cells": [
  {
   "cell_type": "markdown",
   "metadata": {},
   "source": [
    "# LO vs. NLO simulation "
   ]
  },
  {
   "cell_type": "markdown",
   "metadata": {},
   "source": [
    "In this exercise we, will get familiar with leading order (LO) and next-to-leading order (NLO) simulated events. As you might know, beyond the \"tree-level\", things can get messy. The NLO Feynman diagrams (diagrams with one loop) need to be taken into account and, for instance, the cross section calculation becomes harder. The NLO diagrams influence the experimental results as well. \n",
    "\n",
    "Your task this week is to analyse two datasets. One is a ttbar process (a process that produces a top quark and an anti-top quark) simulated in LO and the other is a ttbar process in NLO. These simulations have been made in the framework of CMS detector by following the circumstances of 2016 data taking. This means that we are looking at proton-proton collisions with $\\sqrt{s}$ = 13 TeV center-of-mass energy. \n",
    "\n",
    "In this exercise, we are studying jets. Jets are collimated sprays of hadrons, which originate from quarks or gluons. The lifetime of a top quark is very short, and approximately 99.8% of time it decays into a bottom quark and a W boson. The bottom quark forms a jet, which is then measured. (Note: the W boson can also form jets if it decays into quarks rather than leptons.) The difference between LO and NLO can be seen, for instance, in the jet distributions.\n",
    "\n",
    "The data for transverse momenta and pseudorapidities is structured so that each line contains the data for all jets in the same event. We want to read the data so that it's a list of lists where each inner list contains all jets in the same event. An example of doing that can be seen below."
   ]
  },
  {
   "cell_type": "code",
   "execution_count": 1,
   "metadata": {},
   "outputs": [
    {
     "name": "stdout",
     "output_type": "stream",
     "text": [
      "The pT of the first jet in the first event is 79.74 GeV\n"
     ]
    }
   ],
   "source": [
    "import pandas as pd\n",
    "\n",
    "# An example of how to read the pt values into a nested Python list\n",
    "pts_LO = []\n",
    "\n",
    "with open('tt_LO_pt1.txt', 'r') as f:\n",
    "    for line in f.readlines():\n",
    "        event = line.rstrip('\\n').split(',')\n",
    "        event = [float(i) for i in event]\n",
    "        pts_LO.append(event)\n",
    "\n",
    "print('The pT of the first jet in the first event is', round(pts_LO[0][0], 2), 'GeV')"
   ]
  },
  {
   "cell_type": "markdown",
   "metadata": {},
   "source": [
    "## Part 1 - LO and NLO jet counts\n",
    "\n",
    "The first task is to plot the numbers of jets per event in a histogram and compare the obtained distributions for LO and NLO. Use the tt_LO_pt1.txt, tt_LO_eta1.txt, tt_NLO_pt1.txt, tt_NLO_eta1.txt, tt_NLO_weights1.csv files for this exercise. \n",
    "\n",
    "**NOTE**: The simulated NLO events need to be weighted. Each event has a weight assigned to it which can be found in file tt_NLO_weights1.csv. Read these and use the resulting array as input for the 'weights' argument in plt.hist. Some weights are negative. The negative weights are an artifact of the cross section calculation. There some terms get a negative weight from a fermion loop. Also normalize the histograms since there are different amounts of LO and NLO events. Hint: the normalization can be done by giving plt.hist the option 'density=True'.\n",
    "\n",
    "Calculate the average number of jets per event for both datasets. Note that the weighting in NLO needs to also be included in the calculation of the average. You can do that for example by using histogram bin heights. Does including NLO Feynman diagrams actually make a difference in practice?\n",
    "\n"
   ]
  },
  {
   "cell_type": "code",
   "execution_count": 2,
   "metadata": {
    "scrolled": true
   },
   "outputs": [
    {
     "data": {
      "image/png": "[encoded data removed]",
      "text/plain": [
       "<Figure size 1152x360 with 4 Axes>"
      ]
     },
     "metadata": {
      "needs_background": "light"
     },
     "output_type": "display_data"
    },
    {
     "name": "stdout",
     "output_type": "stream",
     "text": [
      "Average number of jets per event (pT LO): 5.58\n",
      "Average number of jets per event (pT NLO): 5.69\n",
      "Average number of jets per event (eta LO): 5.58\n",
      "Average number of jets per event (eta NLO): 5.69\n"
     ]
    }
   ],
   "source": [
    "import matplotlib.pyplot as plt\n",
    "import numpy as np\n",
    "\n",
    "# function returns a list of lists, each line contains all the jets in an event\n",
    "def read_txt_file(data_file):\n",
    "    with open(data_file, 'r') as f:\n",
    "        output_list = []\n",
    "        for line in f.readlines():\n",
    "            event = line.rstrip('\\n').split(',')\n",
    "            event = [float(i) for i in event]\n",
    "            output_list.append(event)\n",
    "    return output_list\n",
    "\n",
    "pts_LO = read_txt_file('tt_LO_pt1.txt')\n",
    "etas_LO = read_txt_file('tt_LO_eta1.txt')\n",
    "pts_NLO = read_txt_file('tt_NLO_pt1.txt')\n",
    "etas_NLO = read_txt_file('tt_NLO_eta1.txt')\n",
    "weights = pd.read_csv('tt_NLO_weights1.csv')\n",
    "weights_array = weights.iloc[:, 0].to_numpy()  # making a 1D array instead of the series \n",
    "\n",
    "\n",
    "def count_jets(events):\n",
    "    return [len(event) for event in events]  # Count the jets in each event\n",
    "\n",
    "# Count the number of jets for both LO and NLO \n",
    "number_of_jets_ptLO = count_jets(pts_LO)\n",
    "number_of_jets_ptNLO = count_jets(pts_NLO)\n",
    "number_of_jets_etLO = count_jets(etas_LO)  \n",
    "number_of_jets_etNLO = count_jets(etas_NLO)\n",
    "\n",
    "fig, (ax1, ax2, ax3, ax4) = plt.subplots(1, 4, figsize = (16,5))  \n",
    "\n",
    "ax1.hist(number_of_jets_ptLO, density = True )\n",
    "ax2.hist(number_of_jets_ptNLO, weights = weights_array, density = True )\n",
    "\n",
    "ax1.set_title('pt LO')\n",
    "ax2.set_title('pt NLO')\n",
    "\n",
    "ax3.hist(number_of_jets_etLO, density = True )\n",
    "ax4.hist(number_of_jets_etNLO, weights = weights_array, density = True )\n",
    "\n",
    "ax3.set_title('eta LO')\n",
    "ax4.set_title('eta NLO')\n",
    "\n",
    "plt.show()\n",
    "\n",
    "\n",
    "#Calculating the average number of jets per event\n",
    "# Average for LO (unweighted)\n",
    "avg_jets_ptLO = np.mean(number_of_jets_ptLO)\n",
    "avg_jets_etLO = np.mean(number_of_jets_etLO)\n",
    "\n",
    "\n",
    "# Average for NLO (weighted)\n",
    "def weighted_average(jets, weights):\n",
    "    return np.average(jets, weights = weights)\n",
    "\n",
    "avg_jets_ptNLO = weighted_average(number_of_jets_ptNLO, weights_array)\n",
    "avg_jets_etNLO = weighted_average(number_of_jets_etNLO, weights_array)\n",
    "\n",
    "# Print averages\n",
    "print(f'Average number of jets per event (pT LO): {avg_jets_ptLO:.2f}')\n",
    "print(f'Average number of jets per event (pT NLO): {avg_jets_ptNLO:.2f}')\n",
    "print(f'Average number of jets per event (eta LO): {avg_jets_etLO:.2f}')\n",
    "print(f'Average number of jets per event (eta NLO): {avg_jets_etNLO:.2f}')"
   ]
  },
  {
   "cell_type": "markdown",
   "metadata": {},
   "source": [
    "The histograms do not differ very much from each other. It seems that events with 5 jets do not occure for NLO processes. The average however is very similar and analyzing LO processes is sufficient to a certain precision. "
   ]
  },
  {
   "cell_type": "markdown",
   "metadata": {},
   "source": [
    "## Part 2 - Plotting pT\n",
    "\n",
    "In this part we will take a look at the transverse momenta of individual jets in the LO dataset after doing some cuts. Accept only the jets that have $50 \\textrm{ GeV} < p_T < 150 \\textrm{ GeV}$ and $|\\eta| < 2.1$. Use the same LO files you used in part 1.\n",
    "\n",
    "Plot the transverse momentum for the accepted jets in a histogram. Normalize the pT distribution. Use 40 bins for the histogram. \n",
    "\n"
   ]
  },
  {
   "cell_type": "code",
   "execution_count": 3,
   "metadata": {
    "scrolled": true
   },
   "outputs": [
    {
     "data": {
      "image/png": "[encoded data removed]",
      "text/plain": [
       "<Figure size 432x288 with 1 Axes>"
      ]
     },
     "metadata": {
      "needs_background": "light"
     },
     "output_type": "display_data"
    }
   ],
   "source": [
    "# Plot the jet pT for LO after cuts\n",
    "masked_pts_LO = []\n",
    "\n",
    "# Loop through each event in pts_LO and etas_LO simultaneously\n",
    "for event_pts, event_etas in zip(pts_LO, etas_LO):\n",
    "    for pt, eta in zip(event_pts, event_etas):\n",
    "        # Check the conditions for both pt and eta\n",
    "        if 50 < pt < 150 and eta < 2.1:\n",
    "            masked_pts_LO.append(pt)\n",
    "            \n",
    "hist, bins, patches = plt.hist(masked_pts_LO, bins = 40, density = True)\n",
    "plt.title('Transvers momentum p_t')\n",
    "plt.xlabel('Energy GeV');\n"
   ]
  },
  {
   "cell_type": "markdown",
   "metadata": {},
   "source": [
    "## Part 3 - Fitting an exponential\n",
    "\n",
    "The data you plotted should look like it could be reasonably modelled by an exponentially decaying function. Let's train curve fitting once more and try to fit an exponential curve $c_1e^{c_2x}$ to the data ($c_1$ and $c_2$ are constants).\n",
    "\n",
    "We have used scipy.curve_fit before, but here we can be smarter than that. The easiest way to do this is to realize that an exponential curve is just a straight line after taking a logarithm. Therefore you can take the natural\n",
    "logarithms of bin heights and fit a straight line $ax+b$ to them using [numpy.polyfit](https://docs.scipy.org/doc/numpy/reference/generated/numpy.polyfit.html) (fitting polynomials is in general quite easy and much less frustrating than arbitrary functions). The exponential curve is then $e^be^{ax}$.\n",
    "\n",
    "Write a function **exponential_fit(heights, bin_edges)** which takes the first two return values given by plt.hist as input parameters. The function should calculate the bin centers and then fit a line to np.log(heights) using np.polyfit. **Return the values $a$ and $e^b$ (NOT just b) in this order**. Note that the function should return two separate values, not a list. You can return multiple values by separating them with a comma.\n",
    "\n",
    "\n"
   ]
  },
  {
   "cell_type": "code",
   "execution_count": 4,
   "metadata": {},
   "outputs": [
    {
     "name": "stdout",
     "output_type": "stream",
     "text": [
      "Parameter a = -0.027\n",
      "Exponent e^b = 0.109\n"
     ]
    }
   ],
   "source": [
    "# Write the function exponential_fit\n",
    "\n",
    "def exponential_fit(heights, bin_edges):\n",
    "        centers = [0.5 * (bin_edges[i] + bin_edges[i+1]) for i in range(len(bin_edges)-1) ]\n",
    "        param = np.polyfit(centers, np.log(heights), deg=1)\n",
    "        return param[0], np.exp(param[1])\n",
    "\n",
    "a , b = exponential_fit(hist, bins)\n",
    "print(f'Parameter a = {a:.3f}')\n",
    "print(f'Exponent e^b = {b:.3f}')"
   ]
  },
  {
   "cell_type": "markdown",
   "metadata": {},
   "source": [
    "Confirm with a plot that the curve created by your function fits reasonably well to the data. What are the parameters $a$ and $e^b$ for your data?\n",
    "\n"
   ]
  },
  {
   "cell_type": "code",
   "execution_count": 5,
   "metadata": {
    "scrolled": true
   },
   "outputs": [
    {
     "data": {
      "image/png": "[encoded data removed]",
      "text/plain": [
       "<Figure size 432x288 with 1 Axes>"
      ]
     },
     "metadata": {
      "needs_background": "light"
     },
     "output_type": "display_data"
    }
   ],
   "source": [
    "# Fit an exponential curve to the data.\n",
    "hist, bins, patches = plt.hist(masked_pts_LO, bins = 40, density = True)\n",
    "plt.title('Transvers momentum p_t')\n",
    "plt.xlabel('Energy GeV')\n",
    "\n",
    "def f(x):\n",
    "    return b * np.exp(a*x)\n",
    "\n",
    "x = np.linspace(50, 150 , 150)\n",
    "y = f(x)\n",
    "plt.plot(x,y);"
   ]
  },
  {
   "cell_type": "code",
   "execution_count": null,
   "metadata": {},
   "outputs": [],
   "source": []
  }
 ],
 "metadata": {
  "kernelspec": {
   "display_name": "Python 3",
   "language": "python",
   "name": "python3"
  },
  "language_info": {
   "codemirror_mode": {
    "name": "ipython",
    "version": 3
   },
   "file_extension": ".py",
   "mimetype": "text/x-python",
   "name": "python",
   "nbconvert_exporter": "python",
   "pygments_lexer": "ipython3",
   "version": "3.8.10"
  }
 },
 "nbformat": 4,
 "nbformat_minor": 4
}
