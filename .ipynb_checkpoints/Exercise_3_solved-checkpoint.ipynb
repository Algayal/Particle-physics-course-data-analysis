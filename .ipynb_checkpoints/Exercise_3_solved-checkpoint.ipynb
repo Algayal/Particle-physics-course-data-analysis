{
 "cells": [
  {
   "cell_type": "markdown",
   "metadata": {},
   "source": [
    "# Fitting a function to histogram"
   ]
  },
  {
   "cell_type": "markdown",
   "metadata": {},
   "source": [
    "In this exercise, your task is to fit a relativistic Breit-Wigner distribution function to a peak in invariant mass histogram. From the parameters of the fitted function, it is then possible to determine the mass and lifetime of the particle that the peak represents.\n",
    "\n",
    "The relativistic Breit-Wigner function is a common distribution function used in the field of high-energy physics. The probability density function writes as\n",
    "\n",
    "$$\n",
    "f(E) = \\frac{K}{(E^2-M^2)^2 + M^2 \\Gamma^2},\n",
    "$$\n",
    "\n",
    "where $E$ is the energy, $M$ the maximum of the distribution (equals to the mass of the particle that is detected in the resonance), $\\Gamma$ the full width at half maximum (FWHM) or the decay width of the particle and $K$ a constant that can be expressed as:\n",
    "\n",
    "$$\n",
    "K = \\frac{2\\sqrt{2}M\\Gamma\\sqrt{M^2(M^2+\\Gamma^2)} }{\\pi\\sqrt{M^2+\\sqrt{M^2(M^2+\\Gamma^2)}}}\n",
    "$$\n",
    "\n",
    "If we also want to include the background events to the fit, we must add additional parameters $a$, $b$ and $A$ to the distribution function. Together with the background event parameters, the probability density function becomes\n",
    "\n",
    "$$\n",
    "f(E) = aE+b+A\\frac{K}{(E^2-M^2)^2 + M^2 \\Gamma^2},\n",
    "$$\n",
    "\n",
    "The decay width $\\Gamma$ and the lifetime $\\tau$ of the particle detected in the resonance are related in the following way:\n",
    "\n",
    "$$\n",
    "\\Gamma \\equiv \\frac{\\hbar}{\\tau},\n",
    "$$\n",
    "\n",
    "where $\\hbar$ is the reduced Planck's constant. This relation is based on the uncertainty principle $\\Delta E \\Delta t \\gtrsim \\hbar $, which states that we cannot know exactly both the energy and lifetime of a particle. Therefore, the shorter the lifetime, the greater the uncertainty in energy."
   ]
  },
  {
   "cell_type": "markdown",
   "metadata": {},
   "source": [
    "# Exercise"
   ]
  },
  {
   "cell_type": "markdown",
   "metadata": {},
   "source": [
    "You will use dataset **\"DoubleMuRun2011A.csv\"**. Your task is to plot the invariant masses of the events in the dataset, fit the relativistic Breit-Wigner function to a peak and determine the mass and lifetime of the particle. Here is a summary of what you should do:\n",
    "\n",
    "1. Plot the invariant mass histogram from the data in **\"DoubleMuRun2011A.csv\"** using 100 bins. The invariant masses are already calculated and are saved to a column called \"M\".\n",
    "1. Plot invariant mass histogram on the range 70 - 110 GeV.\n",
    "1. Define a function **bin_centers(bins_edges)** that takes a list of evenly spaced bin edges as arguments and returns the bin centers.\n",
    "1. Define a function **breitwigner(E, gamma, M, a, b, A)** that returns the value of the relativistic Breit-Wigner probability density function.\n",
    "1. Fit Breit-Wigner -function to the peak using bin centers as xdata and bin heights as ydata."
   ]
  },
  {
   "cell_type": "markdown",
   "metadata": {},
   "source": [
    "## Part 1 - Invariant mass, bin centers and Breit-Wigner distribution"
   ]
  },
  {
   "cell_type": "markdown",
   "metadata": {},
   "source": [
    "Plot the invariant mass histogram from data in file \"DoubleMuRun2011A.csv\". Use 100 bins. The invariant masses are already calculated and are saved to a column called \"M\".\n",
    "\n",
    "<br>\n",
    "\n",
    "$\\color{red}{\\text{Write the code below}}$"
   ]
  },
  {
   "cell_type": "code",
   "execution_count": 19,
   "metadata": {},
   "outputs": [
    {
     "data": {
      "image/png": "[encoded data removed]",
      "text/plain": [
       "<Figure size 432x288 with 1 Axes>"
      ]
     },
     "metadata": {
      "needs_background": "light"
     },
     "output_type": "display_data"
    }
   ],
   "source": [
    "import pandas as pd\n",
    "import matplotlib.pyplot as plt\n",
    "\n",
    "ds = pd.read_csv('DoubleMuRun2011A.csv')\n",
    "inv_mass = ds.M\n",
    "\n",
    "plt.figure()\n",
    "plt.hist(inv_mass, 100)\n",
    "plt.title('100 bins')\n",
    "plt.xlabel('Invariant mass (GeV)')\n",
    "plt.ylabel('Number of events per bin')\n",
    "plt.show()"
   ]
  },
  {
   "cell_type": "markdown",
   "metadata": {},
   "source": [
    "As you can probably see, the histogram is quite hard to read. However, we can see that there are some interesting peaks that we might want to look more closely at. Focus on invariant mass range of 70 to 110 GeV. What particle are we looking at? Then plot invariant mass histogram on that range. Again, use 100 bins. Save the bin edges and bin heights to variables (when plotting histogram, write \"hist, bins, patches = plt.hist(...)\" to get bin heights saved to \"hist\" and bin edges to \"bins\").\n",
    "\n",
    "<br>\n",
    "\n",
    "$\\color{red}{\\text{Write the code below}}$"
   ]
  },
  {
   "cell_type": "code",
   "execution_count": 84,
   "metadata": {},
   "outputs": [
    {
     "data": {
      "image/png": "[encoded data removed]",
      "text/plain": [
       "<Figure size 432x288 with 1 Axes>"
      ]
     },
     "metadata": {
      "needs_background": "light"
     },
     "output_type": "display_data"
    }
   ],
   "source": [
    "inv_mass_range = ds.M[(ds.M >= 70) & (ds.M <= 100)]\n",
    "fig1= plt.figure()\n",
    "hist, bins, patches = plt.hist(inv_mass_range, 100)\n",
    "plt.title('100 bins')\n",
    "plt.xlabel('Invariant mass (GeV)')\n",
    "plt.ylabel('Number of events per bin')\n",
    "plt.show()\n",
    "\n",
    "#We notice a peak at ~ 91 GeV which corrosponds to a Z boson "
   ]
  },
  {
   "cell_type": "markdown",
   "metadata": {},
   "source": [
    "Now you should be able to see a single peak. Your task is to fit a Breit-Wigner distribution function to this peak. For more accurate results, we want to fit the function using bin centers as our xdata and bin heights as our ydata. We got bin heights and bin edges from plt.hist() as return values. Now we just need to transform the bin edges into bin centers.\n",
    "\n",
    "Write a function **bin_centers(bin_edges)** that takes a list of evenly spaced bin edges as arguments and returns the bin centers. For example, for a list [1, 2, 3, 4, 5], your code should return [1.5, 2.5, 3.5, 4.5].\n",
    "\n",
    "<br>\n",
    "\n",
    "$\\color{red}{\\text{Write the code below}}$\n"
   ]
  },
  {
   "cell_type": "code",
   "execution_count": 113,
   "metadata": {},
   "outputs": [],
   "source": [
    "def bin_centers(bin_edges):\n",
    "    x_data = []\n",
    "    for i in range(len(bin_edges)-1): #len(edges)-1 takes care of the last element\n",
    "        x_data.append((bins[i]+bins[i+1])/2)\n",
    "    return x_data"
   ]
  },
  {
   "cell_type": "markdown",
   "metadata": {},
   "source": [
    "Before we can do the function fitting, we still need to define the Breit-Wigner function.\n",
    "\n",
    "Write a function **breitwigner(E, gamma, M, a, b, A)** that returns the value of the relativistic Breit-Wigner probability density function. \n",
    "\n",
    "<br>\n",
    "\n",
    "$\\color{red}{\\text{Write the code below}}$\n"
   ]
  },
  {
   "cell_type": "code",
   "execution_count": 51,
   "metadata": {},
   "outputs": [],
   "source": [
    "import numpy as np\n",
    "\n",
    "def breitwigner(E, gamma, M, a, b, A):\n",
    "    K = (2*np.sqrt(2)*M*gamma*np.sqrt(M**2*(M**2+gamma**2)))/(np.pi*np.sqrt(M**2+np.sqrt(M**2*(M**2+gamma**2))))  \n",
    "    return a*E + b + (A* K) / ((E**2-M**2)**2+M**2*gamma**2)"
   ]
  },
  {
   "cell_type": "markdown",
   "metadata": {},
   "source": [
    "## Part 2 - Fitting Breit-Wigner distribution to histogram"
   ]
  },
  {
   "cell_type": "markdown",
   "metadata": {},
   "source": [
    "First, use your bin_centers()-function to transform the bin edges to bin centers.\n",
    "\n",
    "Finally, it is time to fit the distribution function to the histogram. Use **curve_fit()**-function from scipy.optimize module and find the optimal parameters for the Breit-Wigner distribution. Note that you need some initial guess to get any reasonable optimized parameters from curve_fit function. Approximate your initial guesses for $M$ and $\\Gamma$ from the histogram. For the background parameters, you can use for example the following guesses: $a=1$, $b=A=100$. You should perform the optimization multiple times by using the optimized coefficients from the previous iteration as your initial guess for the next iteration. By doing so, you will get more accurate results.\n",
    "\n",
    "<br>\n",
    "\n",
    "$\\color{red}{\\text{Write the code below}}$"
   ]
  },
  {
   "cell_type": "code",
   "execution_count": 197,
   "metadata": {},
   "outputs": [],
   "source": [
    "from scipy.optimize import curve_fit\n",
    "\n",
    "y_data = hist\n",
    "x_data = bin_centers(bins)\n",
    "\n",
    "#initial guesses based on the original histogram\n",
    "a = 1\n",
    "b = 100\n",
    "A = 100\n",
    "M = 90\n",
    "gamma = 3 \n",
    "initial_guess = [gamma, M, a, b, A] \n",
    "\n",
    "for i in range (5):\n",
    "    param , covariance = curve_fit(breitwigner, x_data, y_data, p0 = initial_guess)\n",
    "    initial_guess = param"
   ]
  },
  {
   "cell_type": "markdown",
   "metadata": {},
   "source": [
    "Once you have the optimized parameters, plot the fitted function and the initial histogram to confirm that the fit is good. If the function doesn't seem to describe the histogram well, try using different initial guess or more iterations to find optimal parameters. \n",
    "\n",
    "Print the parameters and their errors. Errors can be calculated by writing np.sqrt(np.diag(covariance)), where covariance is returned by curve_fit -function.\n",
    "\n",
    "<br>\n",
    "\n",
    "$\\color{red}{\\text{Write the code below}}$"
   ]
  },
  {
   "cell_type": "code",
   "execution_count": 198,
   "metadata": {},
   "outputs": [
    {
     "data": {
      "text/plain": [
       "<Figure size 432x288 with 0 Axes>"
      ]
     },
     "metadata": {},
     "output_type": "display_data"
    },
    {
     "data": {
      "image/png": "[encoded data removed]",
      "text/plain": [
       "<Figure size 720x720 with 1 Axes>"
      ]
     },
     "metadata": {
      "needs_background": "light"
     },
     "output_type": "display_data"
    },
    {
     "name": "stdout",
     "output_type": "stream",
     "text": [
      "The optimized parameters and their covariance are:\n",
      "\n",
      "Γ : 4.417214714660886 with error: 0.055493944488277304\n",
      "M : 90.89448283228681 with error: 0.013866552118835293\n",
      "a : -3.554971780485017 with error: 0.35056510160545495\n",
      "b : 297.24794455086106 with error: 27.75260552719429\n",
      "A : 10951.753017086336 with error: 135.99092161207597\n"
     ]
    }
   ],
   "source": [
    "plt.figure()\n",
    "plt.figure(figsize=(10,10))       \n",
    "hist, bins, patches = plt.hist(inv_mass_range, 100)\n",
    "plt.title('100 bins')\n",
    "plt.xlabel('Invariant mass (GeV)')\n",
    "plt.ylabel('Number of events per bin')\n",
    "\n",
    "# plotting the fitted function\n",
    "x = np.linspace(70, 100, num=100)\n",
    "y = breitwigner(x, param[0],param[1],param[2],param[3],param[4])\n",
    "plt.plot(x,y,color='red')\n",
    "plt.show()\n",
    "# The function seems to describe the histogram \n",
    "\n",
    "# printing the optimized parameters and their errors\n",
    "error = np.sqrt(np.diag(covariance))\n",
    "\n",
    "print('The optimized parameters and their covariance are:')\n",
    "print('')\n",
    "print(f'Γ : {param[0]} with error: {error[0]}')\n",
    "print(f'M : {param[1]} with error: {error[1]}')\n",
    "print(f'a : {param[2]} with error: {error[2]}')\n",
    "print(f'b : {param[3]} with error: {error[3]}')\n",
    "print(f'A : {param[4]} with error: {error[4]}')"
   ]
  },
  {
   "cell_type": "markdown",
   "metadata": {},
   "source": [
    "Now that you have a function that represents the data well, you can use it to estimate the lifetime of the particle. Can you also determine the mass of the particle with uncertainties? \n",
    "\n",
    "<br>\n",
    "\n",
    "$\\color{red}{\\text{Write the code below}}$\n"
   ]
  },
  {
   "cell_type": "code",
   "execution_count": 211,
   "metadata": {},
   "outputs": [
    {
     "name": "stdout",
     "output_type": "stream",
     "text": [
      "Mass is 90.91 GeV ± 0.0139 GeV\n",
      "The lifetime of the particle is 1.49e-25 s\n"
     ]
    }
   ],
   "source": [
    "# To estimate the mass, we need to find the maximum value of the function \n",
    "\n",
    "max_y_index = np.argmax(y)  # Index of the maximum y value\n",
    "max_x = x[max_y_index]      # The x value corrosponding the maximum y value, which is the mass\n",
    "M_error = error[1] #The error of the optimized parameter M \n",
    "print(f'Mass is {max_x:.2f} GeV ± {M_error:.4f} GeV')\n",
    "\n",
    "# The life time of the particle is hbar/Γ\n",
    "lifetime = 6.582119569*10**(-25)/param[0]\n",
    "print(f'The lifetime of the particle is {lifetime:.2e} s')\n",
    "\n"
   ]
  }
 ],
 "metadata": {
  "kernelspec": {
   "display_name": "Python 3",
   "language": "python",
   "name": "python3"
  },
  "language_info": {
   "codemirror_mode": {
    "name": "ipython",
    "version": 3
   },
   "file_extension": ".py",
   "mimetype": "text/x-python",
   "name": "python",
   "nbconvert_exporter": "python",
   "pygments_lexer": "ipython3",
   "version": "3.8.10"
  }
 },
 "nbformat": 4,
 "nbformat_minor": 4
}
